{
 "cells": [
  {
   "cell_type": "code",
   "execution_count": 95,
   "metadata": {},
   "outputs": [],
   "source": [
    "import datetime as dt\n",
    "import pandas as pd\n",
    "import numpy as np\n",
    "import alphalens as al\n",
    "import scipy.stats as ss\n",
    "from scipy.optimize import minimize\n",
    "import os\n",
    "import sys\n",
    "import matplotlib.pyplot as plt\n",
    "import matplotlib.style as style\n",
    "style.use('ggplot')\n",
    "style.use('seaborn-poster')\n",
    "\n",
    "mod_path = '/Users/richard.wuebker/Projects/price_data_utils'\n",
    "if mod_path not in sys.path:\n",
    "    sys.path.append(mod_path)\n",
    "    \n",
    "from data_loader import DataLoader\n",
    "from mp_historical_prices import HistoricalPrices"
   ]
  },
  {
   "cell_type": "code",
   "execution_count": 2,
   "metadata": {},
   "outputs": [
    {
     "name": "stdout",
     "output_type": "stream",
     "text": [
      "Prediction Date: 2019-07-30\n"
     ]
    }
   ],
   "source": [
    "dl = DataLoader(prices_dir='../../price_data_utils/prices', info_dir='../../price_data_utils/info', \n",
    "                analysis_date_str='2019-07-26', cached_dir='../../price_data_utils/cached')\n",
    "dl.load_data()"
   ]
  },
  {
   "cell_type": "code",
   "execution_count": 3,
   "metadata": {},
   "outputs": [
    {
     "data": {
      "text/html": [
       "<div>\n",
       "<style scoped>\n",
       "    .dataframe tbody tr th:only-of-type {\n",
       "        vertical-align: middle;\n",
       "    }\n",
       "\n",
       "    .dataframe tbody tr th {\n",
       "        vertical-align: top;\n",
       "    }\n",
       "\n",
       "    .dataframe thead th {\n",
       "        text-align: right;\n",
       "    }\n",
       "</style>\n",
       "<table border=\"1\" class=\"dataframe\">\n",
       "  <thead>\n",
       "    <tr style=\"text-align: right;\">\n",
       "      <th></th>\n",
       "      <th>mkt_cap</th>\n",
       "      <th>beta</th>\n",
       "      <th>book_value</th>\n",
       "      <th>sector</th>\n",
       "      <th>eps</th>\n",
       "      <th>month_ago</th>\n",
       "      <th>year_ago</th>\n",
       "      <th>prev_date</th>\n",
       "      <th>analysis_date</th>\n",
       "      <th>trade_date</th>\n",
       "      <th>pred_date</th>\n",
       "      <th>volume</th>\n",
       "    </tr>\n",
       "    <tr>\n",
       "      <th>ticker</th>\n",
       "      <th></th>\n",
       "      <th></th>\n",
       "      <th></th>\n",
       "      <th></th>\n",
       "      <th></th>\n",
       "      <th></th>\n",
       "      <th></th>\n",
       "      <th></th>\n",
       "      <th></th>\n",
       "      <th></th>\n",
       "      <th></th>\n",
       "      <th></th>\n",
       "    </tr>\n",
       "  </thead>\n",
       "  <tbody>\n",
       "    <tr>\n",
       "      <th>CSCO</th>\n",
       "      <td>241989664768</td>\n",
       "      <td>1.028849</td>\n",
       "      <td>36804000000</td>\n",
       "      <td>Technology</td>\n",
       "      <td>2.882000</td>\n",
       "      <td>56.245041</td>\n",
       "      <td>42.669865</td>\n",
       "      <td>56.619999</td>\n",
       "      <td>56.529999</td>\n",
       "      <td>56.930000</td>\n",
       "      <td>56.470001</td>\n",
       "      <td>15243000.0</td>\n",
       "    </tr>\n",
       "    <tr>\n",
       "      <th>SITC</th>\n",
       "      <td>2462647552</td>\n",
       "      <td>0.870377</td>\n",
       "      <td>1524945000</td>\n",
       "      <td>Real Estate</td>\n",
       "      <td>0.922000</td>\n",
       "      <td>12.890000</td>\n",
       "      <td>NaN</td>\n",
       "      <td>13.640000</td>\n",
       "      <td>13.640000</td>\n",
       "      <td>13.990000</td>\n",
       "      <td>14.130000</td>\n",
       "      <td>1154157.0</td>\n",
       "    </tr>\n",
       "    <tr>\n",
       "      <th>UAL</th>\n",
       "      <td>23986143232</td>\n",
       "      <td>1.278593</td>\n",
       "      <td>10320000000</td>\n",
       "      <td>Industrials</td>\n",
       "      <td>9.838000</td>\n",
       "      <td>85.330002</td>\n",
       "      <td>82.790001</td>\n",
       "      <td>93.930000</td>\n",
       "      <td>93.360001</td>\n",
       "      <td>93.440002</td>\n",
       "      <td>93.930000</td>\n",
       "      <td>1684800.0</td>\n",
       "    </tr>\n",
       "    <tr>\n",
       "      <th>TROW</th>\n",
       "      <td>27137085440</td>\n",
       "      <td>1.029243</td>\n",
       "      <td>6579100000</td>\n",
       "      <td>Financial Services</td>\n",
       "      <td>7.945001</td>\n",
       "      <td>106.889999</td>\n",
       "      <td>116.327202</td>\n",
       "      <td>113.919998</td>\n",
       "      <td>115.199997</td>\n",
       "      <td>114.959999</td>\n",
       "      <td>115.360001</td>\n",
       "      <td>1165300.0</td>\n",
       "    </tr>\n",
       "    <tr>\n",
       "      <th>ISRG</th>\n",
       "      <td>60810940416</td>\n",
       "      <td>1.289684</td>\n",
       "      <td>7265300000</td>\n",
       "      <td>Healthcare</td>\n",
       "      <td>10.129000</td>\n",
       "      <td>513.719971</td>\n",
       "      <td>519.280029</td>\n",
       "      <td>531.690002</td>\n",
       "      <td>527.630005</td>\n",
       "      <td>529.609985</td>\n",
       "      <td>531.640015</td>\n",
       "      <td>459100.0</td>\n",
       "    </tr>\n",
       "  </tbody>\n",
       "</table>\n",
       "</div>"
      ],
      "text/plain": [
       "             mkt_cap      beta   book_value              sector        eps  \\\n",
       "ticker                                                                       \n",
       "CSCO    241989664768  1.028849  36804000000          Technology   2.882000   \n",
       "SITC      2462647552  0.870377   1524945000         Real Estate   0.922000   \n",
       "UAL      23986143232  1.278593  10320000000         Industrials   9.838000   \n",
       "TROW     27137085440  1.029243   6579100000  Financial Services   7.945001   \n",
       "ISRG     60810940416  1.289684   7265300000          Healthcare  10.129000   \n",
       "\n",
       "         month_ago    year_ago   prev_date  analysis_date  trade_date  \\\n",
       "ticker                                                                  \n",
       "CSCO     56.245041   42.669865   56.619999      56.529999   56.930000   \n",
       "SITC     12.890000         NaN   13.640000      13.640000   13.990000   \n",
       "UAL      85.330002   82.790001   93.930000      93.360001   93.440002   \n",
       "TROW    106.889999  116.327202  113.919998     115.199997  114.959999   \n",
       "ISRG    513.719971  519.280029  531.690002     527.630005  529.609985   \n",
       "\n",
       "         pred_date      volume  \n",
       "ticker                          \n",
       "CSCO     56.470001  15243000.0  \n",
       "SITC     14.130000   1154157.0  \n",
       "UAL      93.930000   1684800.0  \n",
       "TROW    115.360001   1165300.0  \n",
       "ISRG    531.640015    459100.0  "
      ]
     },
     "execution_count": 3,
     "metadata": {},
     "output_type": "execute_result"
    }
   ],
   "source": [
    "data = dl.data\n",
    "data.head()"
   ]
  },
  {
   "cell_type": "code",
   "execution_count": 4,
   "metadata": {},
   "outputs": [
    {
     "data": {
      "text/html": [
       "<div>\n",
       "<style scoped>\n",
       "    .dataframe tbody tr th:only-of-type {\n",
       "        vertical-align: middle;\n",
       "    }\n",
       "\n",
       "    .dataframe tbody tr th {\n",
       "        vertical-align: top;\n",
       "    }\n",
       "\n",
       "    .dataframe thead th {\n",
       "        text-align: right;\n",
       "    }\n",
       "</style>\n",
       "<table border=\"1\" class=\"dataframe\">\n",
       "  <thead>\n",
       "    <tr style=\"text-align: right;\">\n",
       "      <th></th>\n",
       "      <th>High</th>\n",
       "      <th>Low</th>\n",
       "      <th>Open</th>\n",
       "      <th>Close</th>\n",
       "      <th>Volume</th>\n",
       "      <th>Adj Close</th>\n",
       "      <th>ticker</th>\n",
       "    </tr>\n",
       "    <tr>\n",
       "      <th>Date</th>\n",
       "      <th></th>\n",
       "      <th></th>\n",
       "      <th></th>\n",
       "      <th></th>\n",
       "      <th></th>\n",
       "      <th></th>\n",
       "      <th></th>\n",
       "    </tr>\n",
       "  </thead>\n",
       "  <tbody>\n",
       "    <tr>\n",
       "      <th>2017-05-12</th>\n",
       "      <td>21.299999</td>\n",
       "      <td>20.270000</td>\n",
       "      <td>21.250000</td>\n",
       "      <td>21.10</td>\n",
       "      <td>10933700.0</td>\n",
       "      <td>21.10</td>\n",
       "      <td>GDI</td>\n",
       "    </tr>\n",
       "    <tr>\n",
       "      <th>2017-05-15</th>\n",
       "      <td>22.299999</td>\n",
       "      <td>21.010000</td>\n",
       "      <td>21.010000</td>\n",
       "      <td>22.02</td>\n",
       "      <td>3487300.0</td>\n",
       "      <td>22.02</td>\n",
       "      <td>GDI</td>\n",
       "    </tr>\n",
       "    <tr>\n",
       "      <th>2017-05-16</th>\n",
       "      <td>22.410000</td>\n",
       "      <td>22.049999</td>\n",
       "      <td>22.190001</td>\n",
       "      <td>22.10</td>\n",
       "      <td>1289300.0</td>\n",
       "      <td>22.10</td>\n",
       "      <td>GDI</td>\n",
       "    </tr>\n",
       "    <tr>\n",
       "      <th>2017-05-17</th>\n",
       "      <td>22.510000</td>\n",
       "      <td>21.670000</td>\n",
       "      <td>22.150000</td>\n",
       "      <td>22.10</td>\n",
       "      <td>1583700.0</td>\n",
       "      <td>22.10</td>\n",
       "      <td>GDI</td>\n",
       "    </tr>\n",
       "    <tr>\n",
       "      <th>2017-05-18</th>\n",
       "      <td>23.629999</td>\n",
       "      <td>21.980000</td>\n",
       "      <td>22.190001</td>\n",
       "      <td>22.50</td>\n",
       "      <td>4075200.0</td>\n",
       "      <td>22.50</td>\n",
       "      <td>GDI</td>\n",
       "    </tr>\n",
       "  </tbody>\n",
       "</table>\n",
       "</div>"
      ],
      "text/plain": [
       "                 High        Low       Open  Close      Volume  Adj Close  \\\n",
       "Date                                                                        \n",
       "2017-05-12  21.299999  20.270000  21.250000  21.10  10933700.0      21.10   \n",
       "2017-05-15  22.299999  21.010000  21.010000  22.02   3487300.0      22.02   \n",
       "2017-05-16  22.410000  22.049999  22.190001  22.10   1289300.0      22.10   \n",
       "2017-05-17  22.510000  21.670000  22.150000  22.10   1583700.0      22.10   \n",
       "2017-05-18  23.629999  21.980000  22.190001  22.50   4075200.0      22.50   \n",
       "\n",
       "           ticker  \n",
       "Date               \n",
       "2017-05-12    GDI  \n",
       "2017-05-15    GDI  \n",
       "2017-05-16    GDI  \n",
       "2017-05-17    GDI  \n",
       "2017-05-18    GDI  "
      ]
     },
     "execution_count": 4,
     "metadata": {},
     "output_type": "execute_result"
    }
   ],
   "source": [
    "hp = HistoricalPrices(prices_dir='../../price_data_utils/prices', \n",
    "                      cached_dir='../../price_data_utils/cached',\n",
    "                      date_str='2019-08-02')\n",
    "hp.get_prices()\n",
    "prices = hp.prices\n",
    "prices.head()"
   ]
  },
  {
   "cell_type": "code",
   "execution_count": 87,
   "metadata": {},
   "outputs": [
    {
     "data": {
      "text/html": [
       "<div>\n",
       "<style scoped>\n",
       "    .dataframe tbody tr th:only-of-type {\n",
       "        vertical-align: middle;\n",
       "    }\n",
       "\n",
       "    .dataframe tbody tr th {\n",
       "        vertical-align: top;\n",
       "    }\n",
       "\n",
       "    .dataframe thead th {\n",
       "        text-align: right;\n",
       "    }\n",
       "</style>\n",
       "<table border=\"1\" class=\"dataframe\">\n",
       "  <thead>\n",
       "    <tr style=\"text-align: right;\">\n",
       "      <th>ticker</th>\n",
       "      <th>A</th>\n",
       "      <th>AA</th>\n",
       "      <th>AAL</th>\n",
       "      <th>AAP</th>\n",
       "      <th>AAPL</th>\n",
       "      <th>ABBV</th>\n",
       "      <th>ABC</th>\n",
       "      <th>ABMD</th>\n",
       "      <th>ABT</th>\n",
       "      <th>ACC</th>\n",
       "      <th>...</th>\n",
       "      <th>YUMC</th>\n",
       "      <th>Z</th>\n",
       "      <th>ZAYO</th>\n",
       "      <th>ZBH</th>\n",
       "      <th>ZBRA</th>\n",
       "      <th>ZEN</th>\n",
       "      <th>ZG</th>\n",
       "      <th>ZION</th>\n",
       "      <th>ZNGA</th>\n",
       "      <th>ZTS</th>\n",
       "    </tr>\n",
       "    <tr>\n",
       "      <th>Date</th>\n",
       "      <th></th>\n",
       "      <th></th>\n",
       "      <th></th>\n",
       "      <th></th>\n",
       "      <th></th>\n",
       "      <th></th>\n",
       "      <th></th>\n",
       "      <th></th>\n",
       "      <th></th>\n",
       "      <th></th>\n",
       "      <th></th>\n",
       "      <th></th>\n",
       "      <th></th>\n",
       "      <th></th>\n",
       "      <th></th>\n",
       "      <th></th>\n",
       "      <th></th>\n",
       "      <th></th>\n",
       "      <th></th>\n",
       "      <th></th>\n",
       "      <th></th>\n",
       "    </tr>\n",
       "  </thead>\n",
       "  <tbody>\n",
       "    <tr>\n",
       "      <th>2017-01-03</th>\n",
       "      <td>45.458351</td>\n",
       "      <td>28.83</td>\n",
       "      <td>45.210602</td>\n",
       "      <td>169.822006</td>\n",
       "      <td>111.709831</td>\n",
       "      <td>55.652992</td>\n",
       "      <td>79.012138</td>\n",
       "      <td>112.360001</td>\n",
       "      <td>37.014076</td>\n",
       "      <td>43.978065</td>\n",
       "      <td>...</td>\n",
       "      <td>25.735418</td>\n",
       "      <td>37.220001</td>\n",
       "      <td>33.540001</td>\n",
       "      <td>102.037155</td>\n",
       "      <td>86.250000</td>\n",
       "      <td>22.129999</td>\n",
       "      <td>37.380001</td>\n",
       "      <td>41.394863</td>\n",
       "      <td>2.65</td>\n",
       "      <td>52.623463</td>\n",
       "    </tr>\n",
       "    <tr>\n",
       "      <th>2017-01-04</th>\n",
       "      <td>46.054810</td>\n",
       "      <td>30.26</td>\n",
       "      <td>45.601189</td>\n",
       "      <td>171.215622</td>\n",
       "      <td>111.584778</td>\n",
       "      <td>56.437721</td>\n",
       "      <td>80.972862</td>\n",
       "      <td>115.739998</td>\n",
       "      <td>37.307915</td>\n",
       "      <td>45.176643</td>\n",
       "      <td>...</td>\n",
       "      <td>26.108110</td>\n",
       "      <td>37.090000</td>\n",
       "      <td>32.450001</td>\n",
       "      <td>102.975266</td>\n",
       "      <td>87.029999</td>\n",
       "      <td>22.230000</td>\n",
       "      <td>37.299999</td>\n",
       "      <td>41.989223</td>\n",
       "      <td>2.69</td>\n",
       "      <td>53.134083</td>\n",
       "    </tr>\n",
       "    <tr>\n",
       "      <th>2017-01-05</th>\n",
       "      <td>45.507244</td>\n",
       "      <td>30.65</td>\n",
       "      <td>44.810249</td>\n",
       "      <td>171.096146</td>\n",
       "      <td>112.152229</td>\n",
       "      <td>56.865753</td>\n",
       "      <td>80.035553</td>\n",
       "      <td>114.809998</td>\n",
       "      <td>37.630192</td>\n",
       "      <td>45.401947</td>\n",
       "      <td>...</td>\n",
       "      <td>26.470995</td>\n",
       "      <td>36.419998</td>\n",
       "      <td>30.379999</td>\n",
       "      <td>103.636887</td>\n",
       "      <td>84.750000</td>\n",
       "      <td>22.340000</td>\n",
       "      <td>36.810001</td>\n",
       "      <td>41.308586</td>\n",
       "      <td>2.65</td>\n",
       "      <td>52.957333</td>\n",
       "    </tr>\n",
       "    <tr>\n",
       "      <th>2017-01-06</th>\n",
       "      <td>46.925068</td>\n",
       "      <td>30.68</td>\n",
       "      <td>45.122715</td>\n",
       "      <td>168.856430</td>\n",
       "      <td>113.402542</td>\n",
       "      <td>56.883591</td>\n",
       "      <td>81.106766</td>\n",
       "      <td>115.419998</td>\n",
       "      <td>38.653877</td>\n",
       "      <td>45.618229</td>\n",
       "      <td>...</td>\n",
       "      <td>25.656956</td>\n",
       "      <td>36.700001</td>\n",
       "      <td>30.750000</td>\n",
       "      <td>103.646767</td>\n",
       "      <td>85.959999</td>\n",
       "      <td>22.469999</td>\n",
       "      <td>37.139999</td>\n",
       "      <td>41.577003</td>\n",
       "      <td>2.72</td>\n",
       "      <td>53.124260</td>\n",
       "    </tr>\n",
       "    <tr>\n",
       "      <th>2017-01-09</th>\n",
       "      <td>47.071735</td>\n",
       "      <td>29.48</td>\n",
       "      <td>45.972256</td>\n",
       "      <td>168.756897</td>\n",
       "      <td>114.441246</td>\n",
       "      <td>57.258114</td>\n",
       "      <td>81.757156</td>\n",
       "      <td>117.110001</td>\n",
       "      <td>38.615971</td>\n",
       "      <td>45.122574</td>\n",
       "      <td>...</td>\n",
       "      <td>25.549070</td>\n",
       "      <td>36.950001</td>\n",
       "      <td>30.969999</td>\n",
       "      <td>105.661240</td>\n",
       "      <td>85.970001</td>\n",
       "      <td>23.190001</td>\n",
       "      <td>37.220001</td>\n",
       "      <td>41.126446</td>\n",
       "      <td>2.66</td>\n",
       "      <td>52.976974</td>\n",
       "    </tr>\n",
       "  </tbody>\n",
       "</table>\n",
       "<p>5 rows × 920 columns</p>\n",
       "</div>"
      ],
      "text/plain": [
       "ticker              A     AA        AAL         AAP        AAPL       ABBV  \\\n",
       "Date                                                                         \n",
       "2017-01-03  45.458351  28.83  45.210602  169.822006  111.709831  55.652992   \n",
       "2017-01-04  46.054810  30.26  45.601189  171.215622  111.584778  56.437721   \n",
       "2017-01-05  45.507244  30.65  44.810249  171.096146  112.152229  56.865753   \n",
       "2017-01-06  46.925068  30.68  45.122715  168.856430  113.402542  56.883591   \n",
       "2017-01-09  47.071735  29.48  45.972256  168.756897  114.441246  57.258114   \n",
       "\n",
       "ticker            ABC        ABMD        ABT        ACC  ...       YUMC  \\\n",
       "Date                                                     ...              \n",
       "2017-01-03  79.012138  112.360001  37.014076  43.978065  ...  25.735418   \n",
       "2017-01-04  80.972862  115.739998  37.307915  45.176643  ...  26.108110   \n",
       "2017-01-05  80.035553  114.809998  37.630192  45.401947  ...  26.470995   \n",
       "2017-01-06  81.106766  115.419998  38.653877  45.618229  ...  25.656956   \n",
       "2017-01-09  81.757156  117.110001  38.615971  45.122574  ...  25.549070   \n",
       "\n",
       "ticker              Z       ZAYO         ZBH       ZBRA        ZEN         ZG  \\\n",
       "Date                                                                            \n",
       "2017-01-03  37.220001  33.540001  102.037155  86.250000  22.129999  37.380001   \n",
       "2017-01-04  37.090000  32.450001  102.975266  87.029999  22.230000  37.299999   \n",
       "2017-01-05  36.419998  30.379999  103.636887  84.750000  22.340000  36.810001   \n",
       "2017-01-06  36.700001  30.750000  103.646767  85.959999  22.469999  37.139999   \n",
       "2017-01-09  36.950001  30.969999  105.661240  85.970001  23.190001  37.220001   \n",
       "\n",
       "ticker           ZION  ZNGA        ZTS  \n",
       "Date                                    \n",
       "2017-01-03  41.394863  2.65  52.623463  \n",
       "2017-01-04  41.989223  2.69  53.134083  \n",
       "2017-01-05  41.308586  2.65  52.957333  \n",
       "2017-01-06  41.577003  2.72  53.124260  \n",
       "2017-01-09  41.126446  2.66  52.976974  \n",
       "\n",
       "[5 rows x 920 columns]"
      ]
     },
     "execution_count": 87,
     "metadata": {},
     "output_type": "execute_result"
    }
   ],
   "source": [
    "pivoted_prices = prices.reset_index().pivot(index='Date', \n",
    "                                            columns='ticker', \n",
    "                                            values='Adj Close').loc['2017-01-01':'2017-12-31',:].dropna(axis=1)\n",
    "pivoted_prices.head()"
   ]
  },
  {
   "cell_type": "code",
   "execution_count": 88,
   "metadata": {},
   "outputs": [
    {
     "name": "stdout",
     "output_type": "stream",
     "text": [
      "(251, 4)\n"
     ]
    },
    {
     "data": {
      "text/html": [
       "<div>\n",
       "<style scoped>\n",
       "    .dataframe tbody tr th:only-of-type {\n",
       "        vertical-align: middle;\n",
       "    }\n",
       "\n",
       "    .dataframe tbody tr th {\n",
       "        vertical-align: top;\n",
       "    }\n",
       "\n",
       "    .dataframe thead th {\n",
       "        text-align: right;\n",
       "    }\n",
       "</style>\n",
       "<table border=\"1\" class=\"dataframe\">\n",
       "  <thead>\n",
       "    <tr style=\"text-align: right;\">\n",
       "      <th>ticker</th>\n",
       "      <th>AAPL</th>\n",
       "      <th>CSCO</th>\n",
       "      <th>IBM</th>\n",
       "      <th>AMZN</th>\n",
       "    </tr>\n",
       "    <tr>\n",
       "      <th>Date</th>\n",
       "      <th></th>\n",
       "      <th></th>\n",
       "      <th></th>\n",
       "      <th></th>\n",
       "    </tr>\n",
       "  </thead>\n",
       "  <tbody>\n",
       "    <tr>\n",
       "      <th>2017-01-03</th>\n",
       "      <td>111.709831</td>\n",
       "      <td>28.040636</td>\n",
       "      <td>150.422272</td>\n",
       "      <td>753.669983</td>\n",
       "    </tr>\n",
       "    <tr>\n",
       "      <th>2017-01-04</th>\n",
       "      <td>111.584778</td>\n",
       "      <td>27.873951</td>\n",
       "      <td>152.284653</td>\n",
       "      <td>757.179993</td>\n",
       "    </tr>\n",
       "    <tr>\n",
       "      <th>2017-01-05</th>\n",
       "      <td>112.152229</td>\n",
       "      <td>27.938770</td>\n",
       "      <td>151.780807</td>\n",
       "      <td>780.450012</td>\n",
       "    </tr>\n",
       "    <tr>\n",
       "      <th>2017-01-06</th>\n",
       "      <td>113.402542</td>\n",
       "      <td>27.994335</td>\n",
       "      <td>152.527573</td>\n",
       "      <td>795.989990</td>\n",
       "    </tr>\n",
       "    <tr>\n",
       "      <th>2017-01-09</th>\n",
       "      <td>114.441246</td>\n",
       "      <td>27.948032</td>\n",
       "      <td>150.836121</td>\n",
       "      <td>796.919983</td>\n",
       "    </tr>\n",
       "  </tbody>\n",
       "</table>\n",
       "</div>"
      ],
      "text/plain": [
       "ticker            AAPL       CSCO         IBM        AMZN\n",
       "Date                                                     \n",
       "2017-01-03  111.709831  28.040636  150.422272  753.669983\n",
       "2017-01-04  111.584778  27.873951  152.284653  757.179993\n",
       "2017-01-05  112.152229  27.938770  151.780807  780.450012\n",
       "2017-01-06  113.402542  27.994335  152.527573  795.989990\n",
       "2017-01-09  114.441246  27.948032  150.836121  796.919983"
      ]
     },
     "execution_count": 88,
     "metadata": {},
     "output_type": "execute_result"
    }
   ],
   "source": [
    "p = pivoted_prices.loc[:,['AAPL', 'CSCO', 'IBM', 'AMZN']]\n",
    "print(p.shape)\n",
    "p.head()"
   ]
  },
  {
   "cell_type": "code",
   "execution_count": 89,
   "metadata": {},
   "outputs": [
    {
     "data": {
      "text/html": [
       "<div>\n",
       "<style scoped>\n",
       "    .dataframe tbody tr th:only-of-type {\n",
       "        vertical-align: middle;\n",
       "    }\n",
       "\n",
       "    .dataframe tbody tr th {\n",
       "        vertical-align: top;\n",
       "    }\n",
       "\n",
       "    .dataframe thead th {\n",
       "        text-align: right;\n",
       "    }\n",
       "</style>\n",
       "<table border=\"1\" class=\"dataframe\">\n",
       "  <thead>\n",
       "    <tr style=\"text-align: right;\">\n",
       "      <th>ticker</th>\n",
       "      <th>AAPL</th>\n",
       "      <th>CSCO</th>\n",
       "      <th>IBM</th>\n",
       "      <th>AMZN</th>\n",
       "    </tr>\n",
       "    <tr>\n",
       "      <th>Date</th>\n",
       "      <th></th>\n",
       "      <th></th>\n",
       "      <th></th>\n",
       "      <th></th>\n",
       "    </tr>\n",
       "  </thead>\n",
       "  <tbody>\n",
       "    <tr>\n",
       "      <th>2017-01-03</th>\n",
       "      <td>NaN</td>\n",
       "      <td>NaN</td>\n",
       "      <td>NaN</td>\n",
       "      <td>NaN</td>\n",
       "    </tr>\n",
       "    <tr>\n",
       "      <th>2017-01-04</th>\n",
       "      <td>-0.001119</td>\n",
       "      <td>-0.005944</td>\n",
       "      <td>0.012381</td>\n",
       "      <td>0.004657</td>\n",
       "    </tr>\n",
       "    <tr>\n",
       "      <th>2017-01-05</th>\n",
       "      <td>0.005085</td>\n",
       "      <td>0.002325</td>\n",
       "      <td>-0.003309</td>\n",
       "      <td>0.030732</td>\n",
       "    </tr>\n",
       "    <tr>\n",
       "      <th>2017-01-06</th>\n",
       "      <td>0.011148</td>\n",
       "      <td>0.001989</td>\n",
       "      <td>0.004920</td>\n",
       "      <td>0.019912</td>\n",
       "    </tr>\n",
       "    <tr>\n",
       "      <th>2017-01-09</th>\n",
       "      <td>0.009159</td>\n",
       "      <td>-0.001654</td>\n",
       "      <td>-0.011089</td>\n",
       "      <td>0.001168</td>\n",
       "    </tr>\n",
       "  </tbody>\n",
       "</table>\n",
       "</div>"
      ],
      "text/plain": [
       "ticker          AAPL      CSCO       IBM      AMZN\n",
       "Date                                              \n",
       "2017-01-03       NaN       NaN       NaN       NaN\n",
       "2017-01-04 -0.001119 -0.005944  0.012381  0.004657\n",
       "2017-01-05  0.005085  0.002325 -0.003309  0.030732\n",
       "2017-01-06  0.011148  0.001989  0.004920  0.019912\n",
       "2017-01-09  0.009159 -0.001654 -0.011089  0.001168"
      ]
     },
     "execution_count": 89,
     "metadata": {},
     "output_type": "execute_result"
    }
   ],
   "source": [
    "rets = p.pct_change()\n",
    "rets.head()"
   ]
  },
  {
   "cell_type": "code",
   "execution_count": 90,
   "metadata": {},
   "outputs": [],
   "source": [
    "np.random.seed(101)\n",
    "\n",
    "num_ports = 5000\n",
    "all_weights = np.zeros((num_ports, len(rets.columns)))\n",
    "ret_arr = np.zeros(num_ports)\n",
    "std_arr = np.zeros(num_ports)\n",
    "sr_arr = np.zeros(num_ports)\n",
    "\n",
    "for ix in range(num_ports):\n",
    "    weights = np.random.random(len(rets.columns))\n",
    "    reb_weights = weights / np.sum(weights)\n",
    "    all_weights[ix,:] = reb_weights\n",
    "    \n",
    "    ret_arr[ix] = np.sum((rets.mean() * reb_weights) * 252)\n",
    "    std_arr[ix] = np.sqrt(np.dot(reb_weights.T, np.dot(rets.cov() * 252, reb_weights)))\n",
    "    sr_arr[ix] = ret_arr[ix]/std_arr[ix]"
   ]
  },
  {
   "cell_type": "code",
   "execution_count": 91,
   "metadata": {},
   "outputs": [
    {
     "name": "stdout",
     "output_type": "stream",
     "text": [
      "max sharpe:  2.894688283095566\n"
     ]
    }
   ],
   "source": [
    "print('max sharpe: ', sr_arr.max())\n",
    "max_sharpe_ix = sr_arr.argmax()\n",
    "max_sr_ret = ret_arr[max_sharpe_ix]\n",
    "max_sr_std = std_arr[max_sharpe_ix]"
   ]
  },
  {
   "cell_type": "code",
   "execution_count": 92,
   "metadata": {},
   "outputs": [
    {
     "data": {
      "text/plain": [
       "array([0.47205837, 0.51425067, 0.01118475, 0.00250621])"
      ]
     },
     "execution_count": 92,
     "metadata": {},
     "output_type": "execute_result"
    }
   ],
   "source": [
    "all_weights[1616,:]"
   ]
  },
  {
   "cell_type": "code",
   "execution_count": 93,
   "metadata": {},
   "outputs": [
    {
     "data": {
      "text/plain": [
       "ticker\n",
       "AAPL    0.411191\n",
       "CSCO    0.276143\n",
       "IBM    -0.036145\n",
       "AMZN    0.464567\n",
       "dtype: float64"
      ]
     },
     "execution_count": 93,
     "metadata": {},
     "output_type": "execute_result"
    }
   ],
   "source": [
    "rets.mean()*252"
   ]
  },
  {
   "cell_type": "code",
   "execution_count": 94,
   "metadata": {},
   "outputs": [
    {
     "data": {
      "text/plain": [
       "<matplotlib.collections.PathCollection at 0x12f299a20>"
      ]
     },
     "execution_count": 94,
     "metadata": {},
     "output_type": "execute_result"
    },
    {
     "data": {
      "image/png": "[encoded data removed]",
      "text/plain": [
       "<matplotlib.figure.Figure at 0x12fff2588>"
      ]
     },
     "metadata": {
      "needs_background": "light"
     },
     "output_type": "display_data"
    }
   ],
   "source": [
    "plt.figure(figsize=(12,8))\n",
    "plt.scatter(std_arr, ret_arr, c=sr_arr, cmap='plasma')\n",
    "plt.colorbar(label='Sharpe Ratio')\n",
    "plt.xlabel('Volatility')\n",
    "plt.ylabel('Return')\n",
    "plt.scatter(max_sr_std, max_sr_ret, c='red', s=50)"
   ]
  },
  {
   "cell_type": "markdown",
   "metadata": {},
   "source": [
    "# Adding the Efficient Frontier"
   ]
  },
  {
   "cell_type": "code",
   "execution_count": 97,
   "metadata": {},
   "outputs": [],
   "source": [
    "def get_ret_vol_sr(weights):\n",
    "    weights = np.array(weights)\n",
    "    ret = np.sum(rets.mean()*weights) * 252\n",
    "    std = np.sqrt(np.dot(weights.T, np.dot(rets.cov()*252, weights)))\n",
    "    sr = ret / std\n",
    "    return np.array([ret, std, sr])"
   ]
  },
  {
   "cell_type": "code",
   "execution_count": 98,
   "metadata": {},
   "outputs": [],
   "source": [
    "# our function to minimize:\n",
    "def neg_sharpe(weigths):\n",
    "    return get_ret_vol_sr(weights)[2] * -1"
   ]
  },
  {
   "cell_type": "code",
   "execution_count": 99,
   "metadata": {},
   "outputs": [],
   "source": [
    "def check_sum(weights):\n",
    "    # return 0 if sum of weights is 1\n",
    "    return np.sum(weights) - 1"
   ]
  },
  {
   "cell_type": "code",
   "execution_count": 100,
   "metadata": {},
   "outputs": [],
   "source": [
    "cons = ({'type': 'eq', 'fun': check_sum}) # should return 0 for correct constraint"
   ]
  },
  {
   "cell_type": "code",
   "execution_count": 101,
   "metadata": {},
   "outputs": [],
   "source": [
    "bounds = ((0,1), (0,1), (0,1), (0,1))\n",
    "init_guess = [0.25, 0.25, 0.25, 0.25]"
   ]
  },
  {
   "cell_type": "code",
   "execution_count": 103,
   "metadata": {},
   "outputs": [
    {
     "data": {
      "text/plain": [
       "     fun: -2.772897209081562\n",
       "     jac: array([0., 0., 0., 0.])\n",
       " message: 'Optimization terminated successfully.'\n",
       "    nfev: 6\n",
       "     nit: 1\n",
       "    njev: 1\n",
       "  status: 0\n",
       " success: True\n",
       "       x: array([0.25, 0.25, 0.25, 0.25])"
      ]
     },
     "execution_count": 103,
     "metadata": {},
     "output_type": "execute_result"
    }
   ],
   "source": [
    "opt_results = minimize(neg_sharpe, init_guess, method='SLSQP', bounds=bounds, constraints=cons)\n",
    "opt_results"
   ]
  },
  {
   "cell_type": "code",
   "execution_count": 104,
   "metadata": {},
   "outputs": [
    {
     "data": {
      "text/plain": [
       "array([0.27893917, 0.10926   , 2.55298529])"
      ]
     },
     "execution_count": 104,
     "metadata": {},
     "output_type": "execute_result"
    }
   ],
   "source": [
    "get_ret_vol_sr(opt_results.x)"
   ]
  },
  {
   "cell_type": "code",
   "execution_count": 113,
   "metadata": {},
   "outputs": [],
   "source": [
    "frontier_y = np.linspace(0, 0.45, 100)"
   ]
  },
  {
   "cell_type": "code",
   "execution_count": 114,
   "metadata": {},
   "outputs": [],
   "source": [
    "def minimize_volatility(weights):\n",
    "    return get_ret_vol_sr(weights)[1]"
   ]
  },
  {
   "cell_type": "code",
   "execution_count": 115,
   "metadata": {},
   "outputs": [],
   "source": [
    "frontier_vol = []\n",
    "\n",
    "for pos_ret in frontier_y:\n",
    "    cons = ({'type':'eq', 'fun': check_sum}, {'type': 'eq', 'fun': lambda w: get_ret_vol_sr(w)[0] - pos_ret})\n",
    "    result = minimize(minimize_volatility, init_guess, method='SLSQP', bounds=bounds, constraints=cons)\n",
    "    frontier_vol.append(result['fun'])"
   ]
  },
  {
   "cell_type": "code",
   "execution_count": 116,
   "metadata": {},
   "outputs": [
    {
     "data": {
      "text/plain": [
       "[<matplotlib.lines.Line2D at 0x129845c88>]"
      ]
     },
     "execution_count": 116,
     "metadata": {},
     "output_type": "execute_result"
    },
    {
     "data": {
      "image/png": "[encoded data removed]",
      "text/plain": [
       "<matplotlib.figure.Figure at 0x129458588>"
      ]
     },
     "metadata": {},
     "output_type": "display_data"
    }
   ],
   "source": [
    "plt.figure(figsize=(12,8))\n",
    "plt.scatter(std_arr, ret_arr, c=sr_arr, cmap='plasma')\n",
    "plt.colorbar(label='Sharpe Ratio')\n",
    "plt.xlabel('Volatility')\n",
    "plt.ylabel('Return')\n",
    "plt.scatter(max_sr_std, max_sr_ret, c='red', s=50)\n",
    "\n",
    "plt.plot(frontier_vol, frontier_y, 'g--', lw=2)"
   ]
  },
  {
   "cell_type": "code",
   "execution_count": null,
   "metadata": {},
   "outputs": [],
   "source": []
  }
 ],
 "metadata": {
  "kernelspec": {
   "display_name": "Python 3",
   "language": "python",
   "name": "python3"
  },
  "language_info": {
   "codemirror_mode": {
    "name": "ipython",
    "version": 3
   },
   "file_extension": ".py",
   "mimetype": "text/x-python",
   "name": "python",
   "nbconvert_exporter": "python",
   "pygments_lexer": "ipython3",
   "version": "3.7.3"
  }
 },
 "nbformat": 4,
 "nbformat_minor": 2
}
