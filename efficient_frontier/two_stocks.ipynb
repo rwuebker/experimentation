{
 "cells": [
  {
   "cell_type": "code",
   "execution_count": 1,
   "metadata": {},
   "outputs": [],
   "source": [
    "import datetime as dt\n",
    "import pandas as pd\n",
    "import numpy as np\n",
    "import alphalens as al\n",
    "import scipy.stats as ss\n",
    "from scipy.optimize import minimize\n",
    "import os\n",
    "import sys\n",
    "import matplotlib.pyplot as plt\n",
    "import matplotlib.style as style\n",
    "from tqdm import tqdm\n",
    "style.use('ggplot')\n",
    "style.use('seaborn-poster')\n",
    "\n",
    "import pandas_datareader.data as web\n",
    "import pandas_datareader as pdr\n",
    "import numpy as np"
   ]
  },
  {
   "cell_type": "code",
   "execution_count": 11,
   "metadata": {},
   "outputs": [
    {
     "data": {
      "text/plain": [
       "date\n",
       "2014-03-27 00:00:00+00:00    558.46\n",
       "2014-03-28 00:00:00+00:00    559.99\n",
       "2014-03-31 00:00:00+00:00    556.97\n",
       "2014-04-01 00:00:00+00:00    567.16\n",
       "2014-04-02 00:00:00+00:00    567.00\n",
       "Name: adjClose, dtype: float64"
      ]
     },
     "execution_count": 11,
     "metadata": {},
     "output_type": "execute_result"
    }
   ],
   "source": [
    "df = pdr.get_data_tiingo('GOOG', api_key=os.getenv('TIINGO_API_KEY')).droplevel(0)\n",
    "#df.columns = df.columns.droplevel(1)\n",
    "df['adjClose'].head()"
   ]
  },
  {
   "cell_type": "code",
   "execution_count": 843,
   "metadata": {},
   "outputs": [
    {
     "data": {
      "text/html": [
       "<div>\n",
       "<style scoped>\n",
       "    .dataframe tbody tr th:only-of-type {\n",
       "        vertical-align: middle;\n",
       "    }\n",
       "\n",
       "    .dataframe tbody tr th {\n",
       "        vertical-align: top;\n",
       "    }\n",
       "\n",
       "    .dataframe thead th {\n",
       "        text-align: right;\n",
       "    }\n",
       "</style>\n",
       "<table border=\"1\" class=\"dataframe\">\n",
       "  <thead>\n",
       "    <tr style=\"text-align: right;\">\n",
       "      <th></th>\n",
       "      <th>SPLV</th>\n",
       "      <th>TLT</th>\n",
       "    </tr>\n",
       "  </thead>\n",
       "  <tbody>\n",
       "    <tr>\n",
       "      <th>2017-01-03 00:00:00+00:00</th>\n",
       "      <td>39.294196</td>\n",
       "      <td>111.742348</td>\n",
       "    </tr>\n",
       "    <tr>\n",
       "      <th>2017-01-04 00:00:00+00:00</th>\n",
       "      <td>39.482975</td>\n",
       "      <td>112.171982</td>\n",
       "    </tr>\n",
       "    <tr>\n",
       "      <th>2017-01-05 00:00:00+00:00</th>\n",
       "      <td>39.501852</td>\n",
       "      <td>113.927880</td>\n",
       "    </tr>\n",
       "    <tr>\n",
       "      <th>2017-01-06 00:00:00+00:00</th>\n",
       "      <td>39.577364</td>\n",
       "      <td>112.881813</td>\n",
       "    </tr>\n",
       "    <tr>\n",
       "      <th>2017-01-09 00:00:00+00:00</th>\n",
       "      <td>39.247002</td>\n",
       "      <td>113.787782</td>\n",
       "    </tr>\n",
       "  </tbody>\n",
       "</table>\n",
       "</div>"
      ],
      "text/plain": [
       "                                SPLV         TLT\n",
       "2017-01-03 00:00:00+00:00  39.294196  111.742348\n",
       "2017-01-04 00:00:00+00:00  39.482975  112.171982\n",
       "2017-01-05 00:00:00+00:00  39.501852  113.927880\n",
       "2017-01-06 00:00:00+00:00  39.577364  112.881813\n",
       "2017-01-09 00:00:00+00:00  39.247002  113.787782"
      ]
     },
     "execution_count": 843,
     "metadata": {},
     "output_type": "execute_result"
    }
   ],
   "source": [
    "start = dt.datetime(2017, 1, 1)\n",
    "end = dt.datetime(2019, 9, 4)\n",
    "tickers = ['SPLV', 'TLT']\n",
    "df = pd.DataFrame()\n",
    "for ticker in tickers:\n",
    "    tmp = pdr.get_data_tiingo(ticker, api_key=os.getenv('TIINGO_API_KEY')).droplevel(0).loc[start:,:]\n",
    "    tmp = tmp['adjClose']\n",
    "    tmp.name = ticker\n",
    "    df = pd.concat([df, tmp], axis=1)\n",
    "\n",
    "df.head()"
   ]
  },
  {
   "cell_type": "code",
   "execution_count": 844,
   "metadata": {},
   "outputs": [
    {
     "data": {
      "text/html": [
       "<div>\n",
       "<style scoped>\n",
       "    .dataframe tbody tr th:only-of-type {\n",
       "        vertical-align: middle;\n",
       "    }\n",
       "\n",
       "    .dataframe tbody tr th {\n",
       "        vertical-align: top;\n",
       "    }\n",
       "\n",
       "    .dataframe thead th {\n",
       "        text-align: right;\n",
       "    }\n",
       "</style>\n",
       "<table border=\"1\" class=\"dataframe\">\n",
       "  <thead>\n",
       "    <tr style=\"text-align: right;\">\n",
       "      <th></th>\n",
       "      <th>SPLV</th>\n",
       "      <th>TLT</th>\n",
       "    </tr>\n",
       "  </thead>\n",
       "  <tbody>\n",
       "    <tr>\n",
       "      <th>2019-08-29 00:00:00+00:00</th>\n",
       "      <td>0.007112</td>\n",
       "      <td>-0.003789</td>\n",
       "    </tr>\n",
       "    <tr>\n",
       "      <th>2019-08-30 00:00:00+00:00</th>\n",
       "      <td>0.001412</td>\n",
       "      <td>0.000272</td>\n",
       "    </tr>\n",
       "    <tr>\n",
       "      <th>2019-09-03 00:00:00+00:00</th>\n",
       "      <td>0.006523</td>\n",
       "      <td>0.001291</td>\n",
       "    </tr>\n",
       "    <tr>\n",
       "      <th>2019-09-04 00:00:00+00:00</th>\n",
       "      <td>0.006306</td>\n",
       "      <td>0.001494</td>\n",
       "    </tr>\n",
       "    <tr>\n",
       "      <th>2019-09-05 00:00:00+00:00</th>\n",
       "      <td>-0.001741</td>\n",
       "      <td>-0.018110</td>\n",
       "    </tr>\n",
       "  </tbody>\n",
       "</table>\n",
       "</div>"
      ],
      "text/plain": [
       "                               SPLV       TLT\n",
       "2019-08-29 00:00:00+00:00  0.007112 -0.003789\n",
       "2019-08-30 00:00:00+00:00  0.001412  0.000272\n",
       "2019-09-03 00:00:00+00:00  0.006523  0.001291\n",
       "2019-09-04 00:00:00+00:00  0.006306  0.001494\n",
       "2019-09-05 00:00:00+00:00 -0.001741 -0.018110"
      ]
     },
     "execution_count": 844,
     "metadata": {},
     "output_type": "execute_result"
    }
   ],
   "source": [
    "rets = df.pct_change()\n",
    "rets.tail()"
   ]
  },
  {
   "cell_type": "code",
   "execution_count": 845,
   "metadata": {},
   "outputs": [
    {
     "data": {
      "text/plain": [
       "<matplotlib.axes._subplots.AxesSubplot at 0x13ee62860>"
      ]
     },
     "execution_count": 845,
     "metadata": {},
     "output_type": "execute_result"
    },
    {
     "data": {
      "image/png": "[encoded data removed]",
      "text/plain": [
       "<matplotlib.figure.Figure at 0x13eec2390>"
      ]
     },
     "metadata": {
      "needs_background": "light"
     },
     "output_type": "display_data"
    }
   ],
   "source": [
    "(1+rets).cumprod().plot()"
   ]
  },
  {
   "cell_type": "code",
   "execution_count": 851,
   "metadata": {},
   "outputs": [],
   "source": [
    "np.random.seed(101)\n",
    "\n",
    "num_ports = 5000\n",
    "all_weights = pd.DataFrame(np.zeros((num_ports, len(rets.columns))), columns=tickers)\n",
    "ret_arr = np.zeros(num_ports)\n",
    "std_arr = np.zeros(num_ports)\n",
    "sr_arr = np.zeros(num_ports)\n",
    "\n",
    "for ix in range(num_ports):\n",
    "    weights = np.random.random(len(rets.columns)-1)\n",
    "    reb_weights = weights / np.sum(weights)\n",
    "    reb_weights = reb_weights * 0.60\n",
    "    reb_weights = np.append([0.40], reb_weights)\n",
    "    reb_weights = np.array([0.70, 0.30])\n",
    "    all_weights.loc[ix,:] = reb_weights\n",
    "    \n",
    "    ret_arr[ix] = np.sum((rets.mean() * reb_weights) * 252)\n",
    "    std_arr[ix] = np.sqrt(np.dot(reb_weights.T, np.dot(rets.cov() * 252, reb_weights)))\n",
    "    sr_arr[ix] = ret_arr[ix]/std_arr[ix]"
   ]
  },
  {
   "cell_type": "code",
   "execution_count": 852,
   "metadata": {},
   "outputs": [
    {
     "name": "stdout",
     "output_type": "stream",
     "text": [
      "max sharpe:  1.823213491637516\n"
     ]
    }
   ],
   "source": [
    "print('max sharpe: ', sr_arr.max())\n",
    "max_sharpe_ix = sr_arr.argmax()\n",
    "max_sr_ret = ret_arr[max_sharpe_ix]\n",
    "max_sr_std = std_arr[max_sharpe_ix]"
   ]
  },
  {
   "cell_type": "code",
   "execution_count": 853,
   "metadata": {},
   "outputs": [
    {
     "data": {
      "text/plain": [
       "SPLV    0.7\n",
       "TLT     0.3\n",
       "Name: 0, dtype: float64"
      ]
     },
     "execution_count": 853,
     "metadata": {},
     "output_type": "execute_result"
    }
   ],
   "source": [
    "\n",
    "all_weights.loc[max_sharpe_ix,:]"
   ]
  },
  {
   "cell_type": "code",
   "execution_count": 854,
   "metadata": {},
   "outputs": [
    {
     "data": {
      "text/plain": [
       "0.1334532424612287"
      ]
     },
     "execution_count": 854,
     "metadata": {},
     "output_type": "execute_result"
    }
   ],
   "source": [
    "(rets.mean()*252 * all_weights.loc[max_sharpe_ix,:]).sum()"
   ]
  },
  {
   "cell_type": "code",
   "execution_count": 855,
   "metadata": {},
   "outputs": [
    {
     "data": {
      "text/plain": [
       "<matplotlib.collections.PathCollection at 0x13b14fdd8>"
      ]
     },
     "execution_count": 855,
     "metadata": {},
     "output_type": "execute_result"
    },
    {
     "data": {
      "image/png": "[encoded data removed]",
      "text/plain": [
       "<matplotlib.figure.Figure at 0x13b059550>"
      ]
     },
     "metadata": {
      "needs_background": "light"
     },
     "output_type": "display_data"
    }
   ],
   "source": [
    "plt.figure(figsize=(12,8))\n",
    "plt.scatter(std_arr, ret_arr, c=sr_arr, cmap='plasma')\n",
    "plt.colorbar(label='Sharpe Ratio')\n",
    "plt.xlabel('Volatility')\n",
    "plt.ylabel('Return')\n",
    "plt.scatter(max_sr_std, max_sr_ret, c='red', s=50)"
   ]
  },
  {
   "cell_type": "markdown",
   "metadata": {},
   "source": [
    "# Adding the Efficient Frontier"
   ]
  },
  {
   "cell_type": "code",
   "execution_count": 213,
   "metadata": {},
   "outputs": [],
   "source": [
    "def get_ret_vol_sr(weights):\n",
    "    weights = np.array(weights)\n",
    "    ret = np.sum(rets.mean()*weights) * 252\n",
    "    std = np.sqrt(np.dot(weights.T, np.dot(rets.cov()*252, weights)))\n",
    "    sr = ret / std\n",
    "    return np.array([ret, std, sr])"
   ]
  },
  {
   "cell_type": "code",
   "execution_count": 214,
   "metadata": {},
   "outputs": [],
   "source": [
    "# our function to minimize:\n",
    "def neg_sharpe(weights):\n",
    "    return get_ret_vol_sr(weights)[2] * -1"
   ]
  },
  {
   "cell_type": "code",
   "execution_count": 215,
   "metadata": {},
   "outputs": [],
   "source": [
    "def check_sum(weights):\n",
    "    # return 0 if sum of weights is 1\n",
    "    return np.sum(weights) - 1"
   ]
  },
  {
   "cell_type": "code",
   "execution_count": 216,
   "metadata": {},
   "outputs": [],
   "source": [
    "cons = ({'type': 'eq', 'fun': check_sum}) # should return 0 for correct constraint"
   ]
  },
  {
   "cell_type": "code",
   "execution_count": 217,
   "metadata": {},
   "outputs": [
    {
     "name": "stdout",
     "output_type": "stream",
     "text": [
      "[(0, 1), (0, 1), (0, 1), (0, 1)]\n",
      "[0.25, 0.25, 0.25, 0.25]\n"
     ]
    }
   ],
   "source": [
    "num_assets = len(df.columns)\n",
    "bounds = [(0,1) for i in range(num_assets)]\n",
    "print(bounds)\n",
    "init_guess = [1/num_assets] * len(df.columns)\n",
    "print(init_guess)"
   ]
  },
  {
   "cell_type": "code",
   "execution_count": 218,
   "metadata": {},
   "outputs": [
    {
     "data": {
      "text/plain": [
       "     fun: -6.135306636849946\n",
       "     jac: array([-0.00956964,  0.00284219,  0.00218159, -0.00089777])\n",
       " message: 'Optimization terminated successfully.'\n",
       "    nfev: 54\n",
       "     nit: 8\n",
       "    njev: 8\n",
       "  status: 0\n",
       " success: True\n",
       "       x: array([0.08215282, 0.30088974, 0.15724218, 0.45971527])"
      ]
     },
     "execution_count": 218,
     "metadata": {},
     "output_type": "execute_result"
    }
   ],
   "source": [
    "opt_results = minimize(neg_sharpe, init_guess, method='SLSQP', bounds=bounds, constraints=cons,\n",
    "                      options={'maxiter': 2000})\n",
    "opt_results"
   ]
  },
  {
   "cell_type": "code",
   "execution_count": 219,
   "metadata": {},
   "outputs": [
    {
     "data": {
      "text/plain": [
       "array([0.31590647, 0.0874205 , 3.61364291])"
      ]
     },
     "execution_count": 219,
     "metadata": {},
     "output_type": "execute_result"
    }
   ],
   "source": [
    "get_ret_vol_sr(init_guess)"
   ]
  },
  {
   "cell_type": "code",
   "execution_count": 220,
   "metadata": {},
   "outputs": [
    {
     "data": {
      "text/plain": [
       "array([0.40831007, 0.06655088, 6.13530664])"
      ]
     },
     "execution_count": 220,
     "metadata": {},
     "output_type": "execute_result"
    }
   ],
   "source": [
    "get_ret_vol_sr(opt_results.x)"
   ]
  },
  {
   "cell_type": "code",
   "execution_count": 221,
   "metadata": {},
   "outputs": [],
   "source": [
    "frontier_y = np.linspace(0, 0.45, 100)"
   ]
  },
  {
   "cell_type": "code",
   "execution_count": 222,
   "metadata": {},
   "outputs": [],
   "source": [
    "def minimize_volatility(weights):\n",
    "    return get_ret_vol_sr(weights)[1]"
   ]
  },
  {
   "cell_type": "code",
   "execution_count": 223,
   "metadata": {},
   "outputs": [
    {
     "name": "stderr",
     "output_type": "stream",
     "text": [
      "\n",
      "\n",
      "  0%|          | 0/100 [00:00<?, ?it/s]\u001b[A\u001b[A\n",
      "\n",
      "  1%|          | 1/100 [00:00<00:11,  8.87it/s]\u001b[A\u001b[A\n",
      "\n",
      "  2%|▏         | 2/100 [00:00<00:10,  8.97it/s]\u001b[A\u001b[A\n",
      "\n",
      "  3%|▎         | 3/100 [00:00<00:10,  9.05it/s]\u001b[A\u001b[A\n",
      "\n",
      "  4%|▍         | 4/100 [00:00<00:10,  9.08it/s]\u001b[A\u001b[A\n",
      "\n",
      "  5%|▌         | 5/100 [00:00<00:10,  9.10it/s]\u001b[A\u001b[A\n",
      "\n",
      "  6%|▌         | 6/100 [00:00<00:10,  9.11it/s]\u001b[A\u001b[A\n",
      "\n",
      "  7%|▋         | 7/100 [00:00<00:10,  9.05it/s]\u001b[A\u001b[A\n",
      "\n",
      "  8%|▊         | 8/100 [00:00<00:10,  9.15it/s]\u001b[A\u001b[A\n",
      "\n",
      "  9%|▉         | 9/100 [00:00<00:09,  9.15it/s]\u001b[A\u001b[A\n",
      "\n",
      " 10%|█         | 10/100 [00:01<00:09,  9.19it/s]\u001b[A\u001b[A\n",
      "\n",
      " 11%|█         | 11/100 [00:01<00:09,  9.18it/s]\u001b[A\u001b[A\n",
      "\n",
      " 12%|█▏        | 12/100 [00:01<00:09,  9.09it/s]\u001b[A\u001b[A\n",
      "\n",
      " 13%|█▎        | 13/100 [00:01<00:09,  8.86it/s]\u001b[A\u001b[A\n",
      "\n",
      " 14%|█▍        | 14/100 [00:01<00:09,  8.83it/s]\u001b[A\u001b[A\n",
      "\n",
      " 15%|█▌        | 15/100 [00:01<00:09,  8.84it/s]\u001b[A\u001b[A\n",
      "\n",
      " 16%|█▌        | 16/100 [00:01<00:09,  8.93it/s]\u001b[A\u001b[A\n",
      "\n",
      " 17%|█▋        | 17/100 [00:01<00:09,  8.94it/s]\u001b[A\u001b[A\n",
      "\n",
      " 18%|█▊        | 18/100 [00:01<00:09,  8.98it/s]\u001b[A\u001b[A\n",
      "\n",
      " 19%|█▉        | 19/100 [00:02<00:09,  8.98it/s]\u001b[A\u001b[A\n",
      "\n",
      " 20%|██        | 20/100 [00:02<00:08,  9.09it/s]\u001b[A\u001b[A\n",
      "\n",
      " 21%|██        | 21/100 [00:02<00:08,  9.12it/s]\u001b[A\u001b[A\n",
      "\n",
      " 22%|██▏       | 22/100 [00:02<00:08,  9.17it/s]\u001b[A\u001b[A\n",
      "\n",
      " 23%|██▎       | 23/100 [00:02<00:08,  9.17it/s]\u001b[A\u001b[A\n",
      "\n",
      " 24%|██▍       | 24/100 [00:02<00:08,  9.02it/s]\u001b[A\u001b[A\n",
      "\n",
      " 25%|██▌       | 25/100 [00:02<00:08,  8.94it/s]\u001b[A\u001b[A\n",
      "\n",
      " 26%|██▌       | 26/100 [00:02<00:08,  9.07it/s]\u001b[A\u001b[A\n",
      "\n",
      " 27%|██▋       | 27/100 [00:02<00:08,  9.05it/s]\u001b[A\u001b[A\n",
      "\n",
      " 28%|██▊       | 28/100 [00:03<00:08,  8.86it/s]\u001b[A\u001b[A\n",
      "\n",
      " 29%|██▉       | 29/100 [00:03<00:08,  8.77it/s]\u001b[A\u001b[A\n",
      "\n",
      " 30%|███       | 30/100 [00:03<00:08,  8.66it/s]\u001b[A\u001b[A\n",
      "\n",
      " 31%|███       | 31/100 [00:03<00:07,  8.82it/s]\u001b[A\u001b[A\n",
      "\n",
      " 32%|███▏      | 32/100 [00:03<00:07,  8.77it/s]\u001b[A\u001b[A\n",
      "\n",
      " 33%|███▎      | 33/100 [00:03<00:07,  8.73it/s]\u001b[A\u001b[A\n",
      "\n",
      " 34%|███▍      | 34/100 [00:03<00:07,  8.72it/s]\u001b[A\u001b[A\n",
      "\n",
      " 35%|███▌      | 35/100 [00:03<00:08,  8.12it/s]\u001b[A\u001b[A\n",
      "\n",
      " 36%|███▌      | 36/100 [00:04<00:08,  7.68it/s]\u001b[A\u001b[A\n",
      "\n",
      " 37%|███▋      | 37/100 [00:04<00:08,  7.29it/s]\u001b[A\u001b[A\n",
      "\n",
      " 38%|███▊      | 38/100 [00:04<00:08,  7.06it/s]\u001b[A\u001b[A\n",
      "\n",
      " 39%|███▉      | 39/100 [00:04<00:08,  6.90it/s]\u001b[A\u001b[A\n",
      "\n",
      " 40%|████      | 40/100 [00:04<00:08,  6.88it/s]\u001b[A\u001b[A\n",
      "\n",
      " 41%|████      | 41/100 [00:04<00:08,  6.98it/s]\u001b[A\u001b[A\n",
      "\n",
      " 42%|████▏     | 42/100 [00:04<00:08,  7.01it/s]\u001b[A\u001b[A\n",
      "\n",
      " 43%|████▎     | 43/100 [00:05<00:08,  6.61it/s]\u001b[A\u001b[A\n",
      "\n",
      " 44%|████▍     | 44/100 [00:05<00:08,  6.37it/s]\u001b[A\u001b[A\n",
      "\n",
      " 45%|████▌     | 45/100 [00:05<00:08,  6.37it/s]\u001b[A\u001b[A\n",
      "\n",
      " 46%|████▌     | 46/100 [00:05<00:08,  6.31it/s]\u001b[A\u001b[A\n",
      "\n",
      " 47%|████▋     | 47/100 [00:05<00:08,  6.22it/s]\u001b[A\u001b[A\n",
      "\n",
      " 48%|████▊     | 48/100 [00:05<00:08,  6.08it/s]\u001b[A\u001b[A\n",
      "\n",
      " 49%|████▉     | 49/100 [00:06<00:08,  6.20it/s]\u001b[A\u001b[A\n",
      "\n",
      " 50%|█████     | 50/100 [00:06<00:07,  6.45it/s]\u001b[A\u001b[A\n",
      "\n",
      " 51%|█████     | 51/100 [00:06<00:07,  6.58it/s]\u001b[A\u001b[A\n",
      "\n",
      " 52%|█████▏    | 52/100 [00:06<00:07,  6.61it/s]\u001b[A\u001b[A\n",
      "\n",
      " 53%|█████▎    | 53/100 [00:06<00:07,  6.68it/s]\u001b[A\u001b[A\n",
      "\n",
      " 54%|█████▍    | 54/100 [00:06<00:06,  6.83it/s]\u001b[A\u001b[A\n",
      "\n",
      " 55%|█████▌    | 55/100 [00:07<00:06,  6.63it/s]\u001b[A\u001b[A\n",
      "\n",
      " 56%|█████▌    | 56/100 [00:07<00:06,  6.38it/s]\u001b[A\u001b[A\n",
      "\n",
      " 57%|█████▋    | 57/100 [00:07<00:06,  6.19it/s]\u001b[A\u001b[A\n",
      "\n",
      " 58%|█████▊    | 58/100 [00:07<00:06,  6.03it/s]\u001b[A\u001b[A\n",
      "\n",
      " 59%|█████▉    | 59/100 [00:07<00:06,  5.92it/s]\u001b[A\u001b[A\n",
      "\n",
      " 60%|██████    | 60/100 [00:07<00:06,  5.90it/s]\u001b[A\u001b[A\n",
      "\n",
      " 61%|██████    | 61/100 [00:08<00:06,  6.10it/s]\u001b[A\u001b[A\n",
      "\n",
      " 62%|██████▏   | 62/100 [00:08<00:06,  5.90it/s]\u001b[A\u001b[A\n",
      "\n",
      " 63%|██████▎   | 63/100 [00:08<00:06,  5.97it/s]\u001b[A\u001b[A\n",
      "\n",
      " 64%|██████▍   | 64/100 [00:08<00:06,  5.65it/s]\u001b[A\u001b[A\n",
      "\n",
      " 65%|██████▌   | 65/100 [00:08<00:06,  5.55it/s]\u001b[A\u001b[A\n",
      "\n",
      " 66%|██████▌   | 66/100 [00:08<00:06,  5.48it/s]\u001b[A\u001b[A\n",
      "\n",
      " 67%|██████▋   | 67/100 [00:09<00:06,  5.38it/s]\u001b[A\u001b[A\n",
      "\n",
      " 68%|██████▊   | 68/100 [00:09<00:05,  5.40it/s]\u001b[A\u001b[A\n",
      "\n",
      " 69%|██████▉   | 69/100 [00:09<00:05,  5.28it/s]\u001b[A\u001b[A\n",
      "\n",
      " 70%|███████   | 70/100 [00:09<00:06,  4.89it/s]\u001b[A\u001b[A\n",
      "\n",
      " 71%|███████   | 71/100 [00:09<00:06,  4.75it/s]\u001b[A\u001b[A\n",
      "\n",
      " 72%|███████▏  | 72/100 [00:10<00:05,  4.83it/s]\u001b[A\u001b[A\n",
      "\n",
      " 73%|███████▎  | 73/100 [00:10<00:05,  5.01it/s]\u001b[A\u001b[A\n",
      "\n",
      " 74%|███████▍  | 74/100 [00:10<00:04,  5.36it/s]\u001b[A\u001b[A\n",
      "\n",
      " 75%|███████▌  | 75/100 [00:10<00:04,  5.55it/s]\u001b[A\u001b[A\n",
      "\n",
      " 76%|███████▌  | 76/100 [00:10<00:04,  5.57it/s]\u001b[A\u001b[A\n",
      "\n",
      " 77%|███████▋  | 77/100 [00:11<00:04,  5.58it/s]\u001b[A\u001b[A\n",
      "\n",
      " 78%|███████▊  | 78/100 [00:11<00:03,  6.25it/s]\u001b[A\u001b[A\n",
      "\n",
      " 79%|███████▉  | 79/100 [00:11<00:03,  6.14it/s]\u001b[A\u001b[A\n",
      "\n",
      " 80%|████████  | 80/100 [00:11<00:03,  6.12it/s]\u001b[A\u001b[A\n",
      "\n",
      " 81%|████████  | 81/100 [00:11<00:03,  5.87it/s]\u001b[A\u001b[A\n",
      "\n",
      " 82%|████████▏ | 82/100 [00:11<00:03,  5.75it/s]\u001b[A\u001b[A\n",
      "\n",
      " 83%|████████▎ | 83/100 [00:12<00:02,  5.69it/s]\u001b[A\u001b[A\n",
      "\n",
      " 84%|████████▍ | 84/100 [00:12<00:02,  5.59it/s]\u001b[A\u001b[A\n",
      "\n",
      " 85%|████████▌ | 85/100 [00:12<00:02,  5.54it/s]\u001b[A\u001b[A\n",
      "\n",
      " 86%|████████▌ | 86/100 [00:12<00:02,  5.48it/s]\u001b[A\u001b[A\n",
      "\n",
      " 87%|████████▋ | 87/100 [00:12<00:02,  5.50it/s]\u001b[A\u001b[A\n",
      "\n",
      " 88%|████████▊ | 88/100 [00:12<00:02,  5.24it/s]\u001b[A\u001b[A\n",
      "\n",
      " 89%|████████▉ | 89/100 [00:13<00:02,  5.07it/s]\u001b[A\u001b[A\n",
      "\n",
      " 90%|█████████ | 90/100 [00:13<00:02,  4.79it/s]\u001b[A\u001b[A\n",
      "\n",
      " 91%|█████████ | 91/100 [00:13<00:01,  4.78it/s]\u001b[A\u001b[A\n",
      "\n",
      " 92%|█████████▏| 92/100 [00:13<00:01,  4.49it/s]\u001b[A\u001b[A\n",
      "\n",
      " 93%|█████████▎| 93/100 [00:14<00:01,  4.58it/s]\u001b[A\u001b[A\n",
      "\n",
      " 94%|█████████▍| 94/100 [00:14<00:01,  4.59it/s]\u001b[A\u001b[A\n",
      "\n",
      " 95%|█████████▌| 95/100 [00:14<00:01,  4.57it/s]\u001b[A\u001b[A\n",
      "\n",
      " 96%|█████████▌| 96/100 [00:14<00:00,  4.68it/s]\u001b[A\u001b[A\n",
      "\n",
      " 97%|█████████▋| 97/100 [00:14<00:00,  4.75it/s]\u001b[A\u001b[A\n",
      "\n",
      " 98%|█████████▊| 98/100 [00:15<00:00,  4.87it/s]\u001b[A\u001b[A\n",
      "\n",
      " 99%|█████████▉| 99/100 [00:15<00:00,  4.70it/s]\u001b[A\u001b[A\n",
      "\n",
      "100%|██████████| 100/100 [00:15<00:00,  4.43it/s]\u001b[A\u001b[A"
     ]
    }
   ],
   "source": [
    "frontier_vol = []\n",
    "\n",
    "for pos_ret in tqdm(frontier_y):\n",
    "    cons = ({'type':'eq', 'fun': check_sum}, {'type': 'eq', 'fun': lambda w: get_ret_vol_sr(w)[0] - pos_ret})\n",
    "    result = minimize(minimize_volatility, init_guess, method='SLSQP', bounds=bounds, constraints=cons,\n",
    "                      options={'maxiter': 2000})\n",
    "    frontier_vol.append(result['fun'])"
   ]
  },
  {
   "cell_type": "code",
   "execution_count": 224,
   "metadata": {},
   "outputs": [
    {
     "data": {
      "text/plain": [
       "[<matplotlib.lines.Line2D at 0x1320c4198>]"
      ]
     },
     "execution_count": 224,
     "metadata": {},
     "output_type": "execute_result"
    },
    {
     "data": {
      "image/png": "[encoded data removed]",
      "text/plain": [
       "<matplotlib.figure.Figure at 0x1326b6ef0>"
      ]
     },
     "metadata": {},
     "output_type": "display_data"
    }
   ],
   "source": [
    "plt.figure(figsize=(12,8))\n",
    "plt.scatter(std_arr, ret_arr, c=sr_arr, cmap='plasma')\n",
    "plt.colorbar(label='Sharpe Ratio')\n",
    "plt.xlabel('Volatility')\n",
    "plt.ylabel('Return')\n",
    "plt.scatter(max_sr_std, max_sr_ret, c='red', s=50)\n",
    "\n",
    "plt.plot(frontier_vol, frontier_y, 'g--', lw=2)"
   ]
  },
  {
   "cell_type": "code",
   "execution_count": 225,
   "metadata": {},
   "outputs": [
    {
     "data": {
      "text/plain": [
       "[0.2956225987218579,\n",
       " 0.2903652223315799,\n",
       " 0.2851115976152606,\n",
       " 0.2798619358792657,\n",
       " 0.27461646442280035,\n",
       " 0.26937542795854486,\n",
       " 0.2641390904968057,\n",
       " 0.25890773725581373,\n",
       " 0.25368167642590866,\n",
       " 0.2484612420850883,\n",
       " 0.2432467964525679,\n",
       " 0.23803873303089623,\n",
       " 0.23283748024433976,\n",
       " 0.22764350473939673,\n",
       " 0.2224573162646005,\n",
       " 0.2172794727464833,\n",
       " 0.21211058474495542,\n",
       " 0.20695132394052354,\n",
       " 0.20180242832197828,\n",
       " 0.19666471161789603,\n",
       " 0.19153907429581044,\n",
       " 0.1864265121410431,\n",
       " 0.18132813122967045,\n",
       " 0.17624516226156642,\n",
       " 0.1711789781636694,\n",
       " 0.16613111459745727,\n",
       " 0.16110329342329657,\n",
       " 0.1560974520589993,\n",
       " 0.1511157730321006,\n",
       " 0.1461607295108362,\n",
       " 0.1412351230743007,\n",
       " 0.13634214418578652,\n",
       " 0.1314854368787568,\n",
       " 0.12666917190549395,\n",
       " 0.12189814392519051,\n",
       " 0.11717787814634113,\n",
       " 0.11251476375855762,\n",
       " 0.10791620959468422,\n",
       " 0.1033908304745336,\n",
       " 0.09894866677466917,\n",
       " 0.09460144178485938,\n",
       " 0.09036285862224425,\n",
       " 0.08624893590715926,\n",
       " 0.08227837488359256,\n",
       " 0.07847293993162525,\n",
       " 0.0748578180698235,\n",
       " 0.07146189789767149,\n",
       " 0.06831787522578993,\n",
       " 0.06546205464683492,\n",
       " 0.06293368272439634,\n",
       " 0.060773641844903394,\n",
       " 0.05902238525807338,\n",
       " 0.057717135085573336,\n",
       " 0.05688859903951427,\n",
       " 0.0564371797641671,\n",
       " 0.05605021690502468,\n",
       " 0.05571184988979179,\n",
       " 0.05542313468141623,\n",
       " 0.055184740024741365,\n",
       " 0.054997320195555414,\n",
       " 0.054861407156362695,\n",
       " 0.05477735630679373,\n",
       " 0.05474565624834503,\n",
       " 0.05476572269855954,\n",
       " 0.0548381717361016,\n",
       " 0.05495726101291864,\n",
       " 0.055107733371252035,\n",
       " 0.05528795812478219,\n",
       " 0.05549859508030783,\n",
       " 0.05573792354426966,\n",
       " 0.056006745314345636,\n",
       " 0.056304265448191115,\n",
       " 0.05662998545335831,\n",
       " 0.056983731966895275,\n",
       " 0.057364277645750805,\n",
       " 0.05777169409038588,\n",
       " 0.05820514200071395,\n",
       " 0.05866428936772687,\n",
       " 0.0591483070137134,\n",
       " 0.059656833162780865,\n",
       " 0.06018889201893545,\n",
       " 0.06074425454619676,\n",
       " 0.0613222171709125,\n",
       " 0.06192189186952441,\n",
       " 0.0625423903451666,\n",
       " 0.06318374094145836,\n",
       " 0.0638451488544779,\n",
       " 0.06452591945977765,\n",
       " 0.06522545380098496,\n",
       " 0.0659431508881138,\n",
       " 0.0666784132575659,\n",
       " 0.06743072644451929,\n",
       " 0.06819938929780224,\n",
       " 0.06898398512585378,\n",
       " 0.0697839331924136,\n",
       " 0.07059871502368387,\n",
       " 0.07142781862892794,\n",
       " 0.07227074614422117,\n",
       " 0.0731271193697956,\n",
       " 0.07399654641768559]"
      ]
     },
     "execution_count": 225,
     "metadata": {},
     "output_type": "execute_result"
    }
   ],
   "source": [
    "frontier_vol"
   ]
  },
  {
   "cell_type": "code",
   "execution_count": null,
   "metadata": {},
   "outputs": [],
   "source": []
  },
  {
   "cell_type": "code",
   "execution_count": null,
   "metadata": {},
   "outputs": [],
   "source": []
  }
 ],
 "metadata": {
  "kernelspec": {
   "display_name": "Python 3",
   "language": "python",
   "name": "python3"
  },
  "language_info": {
   "codemirror_mode": {
    "name": "ipython",
    "version": 3
   },
   "file_extension": ".py",
   "mimetype": "text/x-python",
   "name": "python",
   "nbconvert_exporter": "python",
   "pygments_lexer": "ipython3",
   "version": "3.7.3"
  }
 },
 "nbformat": 4,
 "nbformat_minor": 2
}
